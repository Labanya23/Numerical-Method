{
  "nbformat": 4,
  "nbformat_minor": 0,
  "metadata": {
    "colab": {
      "provenance": []
    },
    "kernelspec": {
      "name": "python3",
      "display_name": "Python 3"
    },
    "language_info": {
      "name": "python"
    }
  },
  "cells": [
    {
      "cell_type": "code",
      "execution_count": 1,
      "metadata": {
        "id": "kdcT3ac877nM"
      },
      "outputs": [],
      "source": [
        "import numpy as np\n",
        "import matplotlib.pyplot as plt"
      ]
    },
    {
      "cell_type": "code",
      "source": [
        "def n(x):\n",
        "  return x**3+2*x"
      ],
      "metadata": {
        "id": "k9p3s-gt9o9w"
      },
      "execution_count": 5,
      "outputs": []
    },
    {
      "cell_type": "code",
      "source": [
        "def de(x):\n",
        "  return 3*x**2+2"
      ],
      "metadata": {
        "id": "1_JFbrJo9zLm"
      },
      "execution_count": 6,
      "outputs": []
    },
    {
      "cell_type": "code",
      "source": [
        "def area(x_prev,x_pres):\n",
        "  return abs((x_pres-x_prev))*100"
      ],
      "metadata": {
        "id": "4g5jpguZ-fwO"
      },
      "execution_count": 7,
      "outputs": []
    },
    {
      "cell_type": "code",
      "source": [
        "def newton_rapson(f,de,x0,error_tol,max_iter):\n",
        "  x=x0\n",
        "  x_prev=None\n",
        "  error=1e1000\n",
        "  for i in range(max_iter):\n",
        "    x=x-f(x)/de(x)\n",
        "    if x_prev is not None:\n",
        "      error=area(x_prev,x)\n",
        "      if error<error_tol:\n",
        "        print (\"Converange\")\n",
        "        print(f\"Error after iteration{i+1}:{error}\")\n",
        "        return x\n",
        "    x_prev=x\n",
        "    print(f\"Value of x after iteration {i+1}:{x}\")\n",
        "    print(f\"Error after iteratio{i+1}:{error}\")\n",
        "    print()\n",
        "  print(\"here\")\n",
        "  return x\n",
        ""
      ],
      "metadata": {
        "id": "6M2BPQEp-0Mb"
      },
      "execution_count": 18,
      "outputs": []
    },
    {
      "cell_type": "code",
      "source": [
        "newton_rapson(n,de,2,0.001,100)"
      ],
      "metadata": {
        "colab": {
          "base_uri": "https://localhost:8080/"
        },
        "id": "tkbHXWNJBPuX",
        "outputId": "4d238c59-53ca-4e08-e292-1e7aadb22b4c"
      },
      "execution_count": 19,
      "outputs": [
        {
          "output_type": "stream",
          "name": "stdout",
          "text": [
            "Value of x after iteration 1:1.1428571428571428\n",
            "Error after iteratio1:inf\n",
            "\n",
            "Value of x after iteration 2:0.5044334975369458\n",
            "Error after iteratio2:63.8423645320197\n",
            "\n",
            "Value of x after iteration 3:0.09289757340017962\n",
            "Error after iteratio3:41.15359241367661\n",
            "\n",
            "Value of x after iteration 4:0.000791456901896026\n",
            "Error after iteratio4:9.21061164982836\n",
            "\n",
            "Value of x after iteration 5:4.957713252515955e-10\n",
            "Error after iteratio5:0.07914564061247008\n",
            "\n",
            "Converange\n",
            "Error after iteration6:4.957713252515955e-08\n"
          ]
        },
        {
          "output_type": "execute_result",
          "data": {
            "text/plain": [
              "0.0"
            ]
          },
          "metadata": {},
          "execution_count": 19
        }
      ]
    }
  ]
}
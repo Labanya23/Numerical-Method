{
  "nbformat": 4,
  "nbformat_minor": 0,
  "metadata": {
    "colab": {
      "provenance": []
    },
    "kernelspec": {
      "name": "python3",
      "display_name": "Python 3"
    },
    "language_info": {
      "name": "python"
    }
  },
  "cells": [
    {
      "cell_type": "code",
      "execution_count": 1,
      "metadata": {
        "id": "ImXldP8LFd7k"
      },
      "outputs": [],
      "source": [
        "import numpy as np\n",
        "import matplotlib.pyplot as plt"
      ]
    },
    {
      "cell_type": "code",
      "source": [
        "def n(x):\n",
        "  return 3*x+2"
      ],
      "metadata": {
        "id": "BIgiBaRMGBO5"
      },
      "execution_count": 2,
      "outputs": []
    },
    {
      "cell_type": "code",
      "source": [
        "def de(x):\n",
        "  return 3"
      ],
      "metadata": {
        "id": "AlDCilIzGhxp"
      },
      "execution_count": 3,
      "outputs": []
    },
    {
      "cell_type": "code",
      "source": [
        "def area(x_prev,x):\n",
        "  return abs((x-x_prev)/x)*100"
      ],
      "metadata": {
        "id": "dMgJbcQLNhJR"
      },
      "execution_count": 8,
      "outputs": []
    },
    {
      "cell_type": "code",
      "source": [
        "def secant(f,de,x0,x1,error_tol,max_iter):\n",
        "  x=x1\n",
        "  x_prev=x0\n",
        "  for i in range(max_iter):\n",
        "\n",
        "      if f(x)==f(x_prev):\n",
        "        print(f\"warning:f(x)==f(x_prev) at iteration {i+1}\")\n",
        "        return None\n",
        "        error=area(x_prev,x)\n",
        "        error=abs(x-x_prev)\n",
        "      x_new=x-f(x)*(x-x_prev)/f(x)-f(x_prev)\n",
        "      error=abs(x_new-x)\n",
        "      if error<error_tol:\n",
        "        print(\"Converage\")\n",
        "        print(f\"Root after iteration {i+1}:{x_new}\")\n",
        "        print(f\"Error after iteration {i+1}:{error}\")\n",
        "        return x_new\n",
        "      x_prev=x\n",
        "      x=x_new\n",
        "      print(f\"Value of x after iteration {i+1}:{x}\")\n",
        "  print(\"Max iteration reached without convergence\")\n",
        "  return x"
      ],
      "metadata": {
        "id": "cKw49rtjG_bz"
      },
      "execution_count": 9,
      "outputs": []
    },
    {
      "cell_type": "code",
      "source": [
        "secant(n,de,1.75,2,0.001,100)"
      ],
      "metadata": {
        "colab": {
          "base_uri": "https://localhost:8080/"
        },
        "id": "m-eMh8bUKOmP",
        "outputId": "c440b2d8-9754-4deb-db6d-a00cca59306b"
      },
      "execution_count": 10,
      "outputs": [
        {
          "output_type": "stream",
          "name": "stdout",
          "text": [
            "Value of x after iteration 1:-5.5\n",
            "Value of x after iteration 2:-6.0\n",
            "Value of x after iteration 3:9.0\n",
            "Value of x after iteration 4:10.0\n",
            "Value of x after iteration 5:-20.0\n",
            "Value of x after iteration 6:-22.0\n",
            "Value of x after iteration 7:38.0\n",
            "Value of x after iteration 8:42.0\n",
            "Value of x after iteration 9:-78.0\n",
            "Value of x after iteration 10:-86.0\n",
            "Value of x after iteration 11:154.0\n",
            "Value of x after iteration 12:170.0\n",
            "Value of x after iteration 13:-310.0\n",
            "Value of x after iteration 14:-342.0\n",
            "Value of x after iteration 15:618.0\n",
            "Value of x after iteration 16:682.0\n",
            "Value of x after iteration 17:-1238.0\n",
            "Value of x after iteration 18:-1366.0\n",
            "Value of x after iteration 19:2474.0\n",
            "Value of x after iteration 20:2730.0\n",
            "Value of x after iteration 21:-4950.0\n",
            "Value of x after iteration 22:-5462.0\n",
            "Value of x after iteration 23:9898.0\n",
            "Value of x after iteration 24:10922.0\n",
            "Value of x after iteration 25:-19798.0\n",
            "Value of x after iteration 26:-21846.0\n",
            "Value of x after iteration 27:39594.0\n",
            "Value of x after iteration 28:43690.0\n",
            "Value of x after iteration 29:-79190.0\n",
            "Value of x after iteration 30:-87382.0\n",
            "Value of x after iteration 31:158378.0\n",
            "Value of x after iteration 32:174762.0\n",
            "Value of x after iteration 33:-316758.0\n",
            "Value of x after iteration 34:-349526.0\n",
            "Value of x after iteration 35:633514.0\n",
            "Value of x after iteration 36:699050.0\n",
            "Value of x after iteration 37:-1267030.0\n",
            "Value of x after iteration 38:-1398102.0\n",
            "Value of x after iteration 39:2534058.0\n",
            "Value of x after iteration 40:2796202.0\n",
            "Value of x after iteration 41:-5068118.0\n",
            "Value of x after iteration 42:-5592406.0\n",
            "Value of x after iteration 43:10136234.0\n",
            "Value of x after iteration 44:11184810.0\n",
            "Value of x after iteration 45:-20272470.0\n",
            "Value of x after iteration 46:-22369622.0\n",
            "Value of x after iteration 47:40544938.0\n",
            "Value of x after iteration 48:44739242.0\n",
            "Value of x after iteration 49:-81089878.0\n",
            "Value of x after iteration 50:-89478486.0\n",
            "Value of x after iteration 51:162179754.0\n",
            "Value of x after iteration 52:178956970.0\n",
            "Value of x after iteration 53:-324359510.0\n",
            "Value of x after iteration 54:-357913942.0\n",
            "Value of x after iteration 55:648719018.0\n",
            "Value of x after iteration 56:715827882.0\n",
            "Value of x after iteration 57:-1297438038.0\n",
            "Value of x after iteration 58:-1431655766.0\n",
            "Value of x after iteration 59:2594876074.0\n",
            "Value of x after iteration 60:2863311530.0\n",
            "Value of x after iteration 61:-5189752150.0\n",
            "Value of x after iteration 62:-5726623062.0\n",
            "Value of x after iteration 63:10379504298.0\n",
            "Value of x after iteration 64:11453246122.0\n",
            "Value of x after iteration 65:-20759008598.0\n",
            "Value of x after iteration 66:-22906492246.0\n",
            "Value of x after iteration 67:41518017194.0\n",
            "Value of x after iteration 68:45812984490.0\n",
            "Value of x after iteration 69:-83036034390.0\n",
            "Value of x after iteration 70:-91625968982.0\n",
            "Value of x after iteration 71:166072068778.0\n",
            "Value of x after iteration 72:183251937962.0\n",
            "Value of x after iteration 73:-332144137558.0\n",
            "Value of x after iteration 74:-366503875926.0\n",
            "Value of x after iteration 75:664288275114.0\n",
            "Value of x after iteration 76:733007751850.0\n",
            "Value of x after iteration 77:-1328576550230.0\n",
            "Value of x after iteration 78:-1466015503702.0\n",
            "Value of x after iteration 79:2657153100458.0\n",
            "Value of x after iteration 80:2932031007402.0\n",
            "Value of x after iteration 81:-5314306200918.0\n",
            "Value of x after iteration 82:-5864062014806.0\n",
            "Value of x after iteration 83:10628612401834.0\n",
            "Value of x after iteration 84:11728124029610.0\n",
            "Value of x after iteration 85:-21257224803670.0\n",
            "Value of x after iteration 86:-23456248059222.0\n",
            "Value of x after iteration 87:42514449607338.0\n",
            "Value of x after iteration 88:46912496118442.0\n",
            "Value of x after iteration 89:-85028899214678.0\n",
            "Value of x after iteration 90:-93824992236886.0\n",
            "Value of x after iteration 91:170057798429354.0\n",
            "Value of x after iteration 92:187649984473770.0\n",
            "Value of x after iteration 93:-340115596858710.0\n",
            "Value of x after iteration 94:-375299968947542.0\n",
            "Value of x after iteration 95:680231193717418.0\n",
            "Value of x after iteration 96:750599937895082.0\n",
            "Value of x after iteration 97:-1360462387434838.0\n",
            "Value of x after iteration 98:-1501199875790166.0\n",
            "Value of x after iteration 99:2720924774869674.0\n",
            "Value of x after iteration 100:3002399751580330.0\n",
            "Max iteration reached without convergence\n"
          ]
        },
        {
          "output_type": "execute_result",
          "data": {
            "text/plain": [
              "3002399751580330.0"
            ]
          },
          "metadata": {},
          "execution_count": 10
        }
      ]
    }
  ]
}